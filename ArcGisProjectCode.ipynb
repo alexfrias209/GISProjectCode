{
  "nbformat": 4,
  "nbformat_minor": 0,
  "metadata": {
    "colab": {
      "provenance": []
    },
    "kernelspec": {
      "name": "python3",
      "display_name": "Python 3"
    },
    "language_info": {
      "name": "python"
    }
  },
  "cells": [
    {
      "cell_type": "markdown",
      "source": [
        "# Code is reproducible, it uses relative paths so it should work on your computer.\n",
        "(This was done on a windows computer.)\n",
        "\n",
        "Some Notes:\n",
        "\n",
        "1) If you get an ERROR 999999 close all ArcGIS applications and restart,\n",
        "*   Close all arcgis pro applications and restart\n",
        "*   Create an all new project and then rerun\n",
        "*   Might have to create polygons by hand in worst case scenario\n",
        "\n",
        "2) Colors also need to be changed manually to your preference\n",
        "\n",
        "3) Be sure to have these files loaded onto the Map\n",
        "*   USGS_13_n38w121_20220103_DEM.tif\n",
        "*   LC08_L2SP_043034_20180509.tif\n",
        "*   LC08_L2SP_043034_20140311.tif\n",
        "*   LakeYosemiteRd\n",
        "*   VernalPools2018\n",
        "\n",
        "4) For code replication, open notebook through acrgis pro\n",
        "\n",
        "5) Make sure to run one cell at a time. Wait till each finishes before running the next\n",
        "\n",
        "6) If you get a SyntaxError: unexpected EOF while parsing (<string>, line 10). Make sure you did copy and paste the whole cell into arcgis and no code is missing\n",
        "\n",
        "\n",
        "\n",
        "\n",
        "\n",
        "\n",
        "\n"
      ],
      "metadata": {
        "id": "6_TUzzfvyKN0"
      }
    },
    {
      "cell_type": "markdown",
      "source": [
        "### Step 1 Change coordinate system"
      ],
      "metadata": {
        "id": "Tm36HlwYytpd"
      }
    },
    {
      "cell_type": "code",
      "source": [
        "import arcpy\n",
        "arcpy.management.ProjectRaster(\n",
        "    in_raster=\"USGS_13_n38w121_20220103_DEM.tif\",\n",
        "    out_raster=\"USGS_13_n38w12_ProjectRaster\",\n",
        "    out_coor_system='PROJCS[\"NAD_1983_California_Teale_Albers\",GEOGCS[\"GCS_North_American_1983\",DATUM[\"D_North_American_1983\",SPHEROID[\"GRS_1980\",6378137.0,298.257222101]],PRIMEM[\"Greenwich\",0.0],UNIT[\"Degree\",0.0174532925199433]],PROJECTION[\"Albers\"],PARAMETER[\"False_Easting\",0.0],PARAMETER[\"False_Northing\",-4000000.0],PARAMETER[\"Central_Meridian\",-120.0],PARAMETER[\"Standard_Parallel_1\",34.0],PARAMETER[\"Standard_Parallel_2\",40.5],PARAMETER[\"Latitude_Of_Origin\",0.0],UNIT[\"Meter\",1.0]]',\n",
        "    resampling_type=\"NEAREST\",\n",
        "    cell_size=\"9.22219976928353 9.22219976928353\",\n",
        "    geographic_transform=None,\n",
        "    Registration_Point=None,\n",
        "    in_coor_system='GEOGCS[\"GCS_North_American_1983\",DATUM[\"D_North_American_1983\",SPHEROID[\"GRS_1980\",6378137.0,298.257222101]],PRIMEM[\"Greenwich\",0.0],UNIT[\"Degree\",0.0174532925199433]]',\n",
        "    vertical=\"NO_VERTICAL\"\n",
        ")"
      ],
      "metadata": {
        "id": "IsZu1CPG0AYo"
      },
      "execution_count": null,
      "outputs": []
    },
    {
      "cell_type": "code",
      "source": [
        "arcpy.management.ProjectRaster(\n",
        "    in_raster=\"LC08_L2SP_043034_20180509.tif\",\n",
        "    out_raster=r\"LC08_L2SP_0430_ProjectRaster\",\n",
        "    out_coor_system='PROJCS[\"NAD_1983_California_Teale_Albers\",GEOGCS[\"GCS_North_American_1983\",DATUM[\"D_North_American_1983\",SPHEROID[\"GRS_1980\",6378137.0,298.257222101]],PRIMEM[\"Greenwich\",0.0],UNIT[\"Degree\",0.0174532925199433]],PROJECTION[\"Albers\"],PARAMETER[\"False_Easting\",0.0],PARAMETER[\"False_Northing\",-4000000.0],PARAMETER[\"Central_Meridian\",-120.0],PARAMETER[\"Standard_Parallel_1\",34.0],PARAMETER[\"Standard_Parallel_2\",40.5],PARAMETER[\"Latitude_Of_Origin\",0.0],UNIT[\"Meter\",1.0]]',\n",
        "    resampling_type=\"NEAREST\",\n",
        "    cell_size=\"30 30\",\n",
        "    geographic_transform=\"WGS_1984_(ITRF00)_To_NAD_1983\",\n",
        "    Registration_Point=None,\n",
        "    in_coor_system='PROJCS[\"WGS_1984_UTM_Zone_10N\",GEOGCS[\"GCS_WGS_1984\",DATUM[\"D_WGS_1984\",SPHEROID[\"WGS_1984\",6378137.0,298.257223563]],PRIMEM[\"Greenwich\",0.0],UNIT[\"Degree\",0.0174532925199433]],PROJECTION[\"Transverse_Mercator\"],PARAMETER[\"False_Easting\",500000.0],PARAMETER[\"False_Northing\",0.0],PARAMETER[\"Central_Meridian\",-123.0],PARAMETER[\"Scale_Factor\",0.9996],PARAMETER[\"Latitude_Of_Origin\",0.0],UNIT[\"Meter\",1.0]]',\n",
        "    vertical=\"NO_VERTICAL\"\n",
        ")\n"
      ],
      "metadata": {
        "id": "XTKK3Z8e0Grf"
      },
      "execution_count": null,
      "outputs": []
    },
    {
      "cell_type": "code",
      "source": [
        "arcpy.management.ProjectRaster(\n",
        "    in_raster=\"LC08_L2SP_043034_20140311.tif\",\n",
        "    out_raster=r\"LC08_L2SP_0430_Low_ProjectRaster\",\n",
        "    out_coor_system='PROJCS[\"NAD_1983_California_Teale_Albers\",GEOGCS[\"GCS_North_American_1983\",DATUM[\"D_North_American_1983\",SPHEROID[\"GRS_1980\",6378137.0,298.257222101]],PRIMEM[\"Greenwich\",0.0],UNIT[\"Degree\",0.0174532925199433]],PROJECTION[\"Albers\"],PARAMETER[\"False_Easting\",0.0],PARAMETER[\"False_Northing\",-4000000.0],PARAMETER[\"Central_Meridian\",-120.0],PARAMETER[\"Standard_Parallel_1\",34.0],PARAMETER[\"Standard_Parallel_2\",40.5],PARAMETER[\"Latitude_Of_Origin\",0.0],UNIT[\"Meter\",1.0]]',\n",
        "    resampling_type=\"NEAREST\",\n",
        "    cell_size=\"30 30\",\n",
        "    geographic_transform=\"WGS_1984_(ITRF00)_To_NAD_1983\",\n",
        "    Registration_Point=None,\n",
        "    in_coor_system='PROJCS[\"WGS_1984_UTM_Zone_10N\",GEOGCS[\"GCS_WGS_1984\",DATUM[\"D_WGS_1984\",SPHEROID[\"WGS_1984\",6378137.0,298.257223563]],PRIMEM[\"Greenwich\",0.0],UNIT[\"Degree\",0.0174532925199433]],PROJECTION[\"Transverse_Mercator\"],PARAMETER[\"False_Easting\",500000.0],PARAMETER[\"False_Northing\",0.0],PARAMETER[\"Central_Meridian\",-123.0],PARAMETER[\"Scale_Factor\",0.9996],PARAMETER[\"Latitude_Of_Origin\",0.0],UNIT[\"Meter\",1.0]]',\n",
        "    vertical=\"NO_VERTICAL\"\n",
        ")"
      ],
      "metadata": {
        "id": "zUct3Jab0IQa"
      },
      "execution_count": null,
      "outputs": []
    },
    {
      "cell_type": "code",
      "source": [
        "arcpy.management.Project(\n",
        "    in_dataset=\"LakeYosemiteRd\",\n",
        "    out_dataset=r\"LakeYosemiteRd_Project1\",\n",
        "    out_coor_system='PROJCS[\"NAD_1983_California_Teale_Albers\",GEOGCS[\"GCS_North_American_1983\",DATUM[\"D_North_American_1983\",SPHEROID[\"GRS_1980\",6378137.0,298.257222101]],PRIMEM[\"Greenwich\",0.0],UNIT[\"Degree\",0.0174532925199433]],PROJECTION[\"Albers\"],PARAMETER[\"False_Easting\",0.0],PARAMETER[\"False_Northing\",-4000000.0],PARAMETER[\"Central_Meridian\",-120.0],PARAMETER[\"Standard_Parallel_1\",34.0],PARAMETER[\"Standard_Parallel_2\",40.5],PARAMETER[\"Latitude_Of_Origin\",0.0],UNIT[\"Meter\",1.0]]',\n",
        "    transform_method=\"WGS_1984_(ITRF00)_To_NAD_1983\",\n",
        "    in_coor_system='PROJCS[\"WGS_1984_UTM_Zone_10N\",GEOGCS[\"GCS_WGS_1984\",DATUM[\"D_WGS_1984\",SPHEROID[\"WGS_1984\",6378137.0,298.257223563]],PRIMEM[\"Greenwich\",0.0],UNIT[\"Degree\",0.0174532925199433]],PROJECTION[\"Transverse_Mercator\"],PARAMETER[\"False_Easting\",500000.0],PARAMETER[\"False_Northing\",0.0],PARAMETER[\"Central_Meridian\",-123.0],PARAMETER[\"Scale_Factor\",0.9996],PARAMETER[\"Latitude_Of_Origin\",0.0],UNIT[\"Meter\",1.0]]',\n",
        "    preserve_shape=\"NO_PRESERVE_SHAPE\",\n",
        "    max_deviation=None,\n",
        "    vertical=\"NO_VERTICAL\"\n",
        ")"
      ],
      "metadata": {
        "id": "IgIxqMxK0Rlt"
      },
      "execution_count": null,
      "outputs": []
    },
    {
      "cell_type": "markdown",
      "source": [
        "### Step 2: Creating High and Low Water polygons"
      ],
      "metadata": {
        "id": "y1xQw6z-0I6X"
      }
    },
    {
      "cell_type": "code",
      "source": [
        "import arcpy\n",
        "import os\n",
        "from arcpy import Point, Polygon, Array\n",
        "\n",
        "output_folder = os.getcwd()\n",
        "\n",
        "shapefile_name = \"HighWater.shp\"\n",
        "\n",
        "shapefile_path = os.path.join(output_folder, shapefile_name)\n",
        "\n",
        "teale_albers = arcpy.SpatialReference(3310)\n",
        "\n",
        "arcpy.CreateFeatureclass_management(\n",
        "    output_folder,\n",
        "    \"HighWater.shp\",\n",
        "    \"POLYGON\",\n",
        "    spatial_reference=teale_albers\n",
        ")\n",
        "\n",
        "hardcoded_points = [\n",
        "Point(-38913.92330000177, -71288.14240000024),\n",
        "Point(-38888.259100001305, -71248.47949999943),\n",
        "Point(-38794.934799999, -71204.15049999952),\n",
        "Point(-38703.94350000098, -71141.1565000005),\n",
        "Point(-38619.95160000026, -71096.8275000006),\n",
        "Point(-38554.62449999899, -71061.83080000058),\n",
        "Point(-38505.62929999828, -71012.83550000004),\n",
        "Point(-38468.29949999973, -70970.83960000053),\n",
        "Point(-38400.639400001615, -70896.18009999953),\n",
        "Point(-38356.31030000001, -70833.18610000052),\n",
        "Point(-38335.31230000034, -70753.86040000059),\n",
        "Point(-38323.64680000022, -70658.20299999975),\n",
        "Point(-38304.98189999908, -70592.87590000033),\n",
        "Point(-38290.98319999874, -70520.54959999956),\n",
        "Point(-38276.98460000008, -70441.22389999963),\n",
        "Point(-38267.65210000053, -70366.5644000005),\n",
        "Point(-38265.31899999827, -70296.57110000029),\n",
        "Point(-38258.319699998945, -70235.91029999964),\n",
        "Point(-38255.98660000041, -70161.2508000005),\n",
        "Point(-38234.98860000074, -70114.58860000037),\n",
        "Point(-38183.66019999981, -70095.92369999923),\n",
        "Point(-38111.3339000009, -70081.92510000058),\n",
        "Point(-38069.337900001556, -70037.59600000083),\n",
        "Point(-38050.67300000042, -69972.26899999939),\n",
        "Point(-38053.00609999895, -69878.94459999911),\n",
        "Point(-38050.67300000042, -69813.61759999953),\n",
        "Point(-38018.009500000626, -69762.28920000046),\n",
        "Point(-37952.68239999935, -69757.62289999984),\n",
        "Point(-37887.35539999977, -69799.61889999919),\n",
        "Point(-37812.69590000063, -69876.61150000058),\n",
        "Point(-37817.362100001425, -69958.2703000009),\n",
        "Point(-37796.36410000175, -70074.92579999939),\n",
        "Point(-37726.37090000138, -70189.2480999995),\n",
        "Point(-37640.0458999984, -70226.57780000009),\n",
        "Point(-37458.063400000334, -70214.91229999997),\n",
        "Point(-37334.4085999988, -70238.24340000004),\n",
        "Point(-37311.077500000596, -70296.57110000029),\n",
        "Point(-37301.74509999901, -70459.88869999908),\n",
        "Point(-37304.07820000127, -70564.87859999947),\n",
        "Point(-37306.4112999998, -70658.20299999975),\n",
        "Point(-37304.07820000127, -70753.86040000059),\n",
        "Point(-37327.409299999475, -70816.8543999996),\n",
        "Point(-37353.07349999994, -70870.51590000093),\n",
        "Point(-37341.407900001854, -70935.84290000051),\n",
        "Point(-37318.07679999992, -70994.1707000006),\n",
        "Point(-37355.406599998474, -71064.16389999911),\n",
        "Point(-37385.73699999973, -71166.82069999911),\n",
        "Point(-37432.39919999987, -71227.48159999959),\n",
        "Point(-37479.06129999831, -71260.14509999938),\n",
        "Point(-37530.38969999924, -71271.8105999995),\n",
        "Point(-37595.71680000052, -71255.47890000045),\n",
        "Point(-37644.71209999919, -71288.14240000024),\n",
        "Point(-37705.372900001705, -71348.8032000009),\n",
        "Point(-37747.36890000105, -71409.46399999969),\n",
        "Point(-37763.700599998236, -71486.45659999922),\n",
        "Point(-37826.69460000098, -71512.12079999968),\n",
        "Point(-37927.018199998885, -71519.1202000007),\n",
        "Point(-38022.67570000142, -71549.4506000001),\n",
        "Point(-38095.002099998295, -71596.11280000024),\n",
        "Point(-38153.32979999855, -71663.77290000021),\n",
        "Point(-38185.99329999834, -71729.09999999963),\n",
        "Point(-38178.99399999902, -71810.75879999995),\n",
        "Point(-38176.66090000048, -71855.08779999986),\n",
        "Point(-38234.98860000074, -71925.08110000007),\n",
        "Point(-38262.98589999974, -71957.74459999986),\n",
        "Point(-38307.31500000134, -71983.40880000032),\n",
        "Point(-38360.976500000805, -71995.07440000027),\n",
        "Point(-38407.63870000094, -71985.74190000072),\n",
        "Point(-38475.29879999906, -71950.74530000053),\n",
        "Point(-38500.96299999952, -71904.0831000004),\n",
        "Point(-38549.958299998194, -71827.09050000086),\n",
        "Point(-38596.62049999833, -71766.42970000021),\n",
        "Point(-38640.949599999934, -71701.10270000063),\n",
        "Point(-38694.6110999994, -71614.77759999968),\n",
        "Point(-38755.27189999819, -71523.78639999963),\n",
        "Point(-38790.26850000024, -71463.12549999915),\n",
        "Point(-38836.930700000376, -71407.13089999929),\n",
        "Point(-38876.593600001186, -71344.1370000001),\n",
        "Point(-38913.92330000177, -71288.14240000024)\n",
        "]\n",
        "\n",
        "\n",
        "polygon_geometry = Polygon(Array(hardcoded_points))\n",
        "\n",
        "with arcpy.da.InsertCursor(shapefile_path, [\"SHAPE@\"]) as insert_cursor:\n",
        "    insert_cursor.insertRow([polygon_geometry])\n",
        "\n",
        "print(\"Finished\")"
      ],
      "metadata": {
        "id": "eoZQBxN60cyq"
      },
      "execution_count": null,
      "outputs": []
    },
    {
      "cell_type": "code",
      "source": [
        "import arcpy\n",
        "import os\n",
        "from arcpy import Point, Polygon, Array\n",
        "\n",
        "output_folder = os.getcwd()\n",
        "\n",
        "shapefile_name = \"LowWater.shp\"\n",
        "\n",
        "shapefile_path = os.path.join(output_folder, shapefile_name)\n",
        "\n",
        "teale_albers = arcpy.SpatialReference(3310)\n",
        "\n",
        "arcpy.CreateFeatureclass_management(\n",
        "    output_folder,\n",
        "    \"LowWater.shp\",\n",
        "    \"POLYGON\",\n",
        "    spatial_reference=teale_albers\n",
        ")\n",
        "\n",
        "hardcoded_points = [\n",
        "Point(-38895.25844049454, -71318.47279761173),\n",
        "Point(-38869.59424261004, -71304.47414422221),\n",
        "Point(-38839.26382694021, -71269.4775107503),\n",
        "Point(-38703.9435108453, -71227.48155058548),\n",
        "Point(-38636.28335280344, -71164.4876103364),\n",
        "Point(-38491.63060111925, -71064.163927719),\n",
        "Point(-38421.63733417168, -70977.83889848553),\n",
        "Point(-38367.97582951933, -70917.1780671347),\n",
        "Point(-38300.31567147374, -70816.85438451543),\n",
        "Point(-38283.983909185976, -70742.19489977881),\n",
        "Point(-38265.31903800368, -70655.8698705472),\n",
        "Point(-38239.65484012291, -70548.54686123319),\n",
        "Point(-38220.98996893689, -70441.22385192104),\n",
        "Point(-38199.991988856345, -70357.23193158768),\n",
        "Point(-38190.65955326334, -70312.90286252275),\n",
        "Point(-38148.663593094796, -70240.57648668252),\n",
        "Point(-38069.33789056167, -70170.58321974054),\n",
        "Point(-38046.00680157915, -70184.58187312633),\n",
        "Point(-38043.673692680895, -70284.90555574745),\n",
        "Point(-38053.00612827018, -70345.56638709828),\n",
        "Point(-38095.002088434994, -70389.89545616135),\n",
        "Point(-38046.00680157915, -70392.2285650596),\n",
        "Point(-38011.010168105364, -70457.55561421067),\n",
        "Point(-37966.6810990423, -70576.54416801035),\n",
        "Point(-37873.35674311966, -70646.53743495606),\n",
        "Point(-37822.02834736183, -70627.87256377004),\n",
        "Point(-37777.69927829504, -70562.5455146227),\n",
        "Point(-37728.70399143547, -70520.54955445789),\n",
        "Point(-37661.04383338988, -70457.55561421067),\n",
        "Point(-37628.38030881807, -70490.21913878247),\n",
        "Point(-37574.71880415827, -70557.87929682434),\n",
        "Point(-37488.39377493039, -70564.87862352096),\n",
        "Point(-37397.40252789855, -70578.8772769086),\n",
        "Point(-37371.738330025226, -70648.87054385431),\n",
        "Point(-37390.40320120752, -70742.19489977881),\n",
        "Point(-37434.73227027431, -70802.85573112965),\n",
        "Point(-37455.730250354856, -70898.51319595054),\n",
        "Point(-37460.396468147635, -70963.84024509788),\n",
        "Point(-37488.39377493039, -70980.17200738564),\n",
        "Point(-37514.05797280744, -71071.16325441189),\n",
        "Point(-37502.392428316176, -71122.49165017158),\n",
        "Point(-37556.05393297598, -71131.82408576086),\n",
        "Point(-37623.71409101784, -71166.82071923465),\n",
        "Point(-37691.37424906716, -71206.48357050121),\n",
        "Point(-37735.703318130225, -71281.14305524342),\n",
        "Point(-37768.366842698306, -71320.80590650998),\n",
        "Point(-37812.695911768824, -71374.46741116792),\n",
        "Point(-37838.36010964587, -71437.461351417),\n",
        "Point(-37922.35202997923, -71425.79580692388),\n",
        "Point(-37985.345970228314, -71470.12487598881),\n",
        "Point(-38050.67301937193, -71512.12083615363),\n",
        "Point(-38141.664266403764, -71591.44653869234),\n",
        "Point(-38206.99131554738, -71647.44115224667),\n",
        "Point(-38248.98727571592, -71698.76954800636),\n",
        "Point(-38251.32038461417, -71782.76146833599),\n",
        "Point(-38251.32038461417, -71869.08649756573),\n",
        "Point(-38300.31567147374, -71936.74665561132),\n",
        "Point(-38349.31095833331, -71969.41018018499),\n",
        "Point(-38409.97178968415, -71969.41018018499),\n",
        "Point(-38454.30085875094, -71962.41085349023),\n",
        "Point(-38479.96505662426, -71936.74665561132),\n",
        "Point(-38512.62858120352, -71885.41825985536),\n",
        "Point(-38545.29210577533, -71831.75675519742),\n",
        "Point(-38582.62184814364, -71780.42835943773),\n",
        "Point(-38624.61780830845, -71705.76887469925),\n",
        "Point(-38666.61376847327, -71652.10737004317),\n",
        "Point(-38699.277293052524, -71596.11275648698),\n",
        "Point(-38745.93947101012, -71540.11814293265),\n",
        "Point(-38794.934757873416, -71477.12420268357),\n",
        "Point(-38834.597609143704, -71411.79715353623),\n",
        "Point(-38895.25844049454, -71318.47279761173)\n",
        "]\n",
        "\n",
        "\n",
        "polygon_geometry = Polygon(Array(hardcoded_points))\n",
        "\n",
        "with arcpy.da.InsertCursor(shapefile_path, [\"SHAPE@\"]) as insert_cursor:\n",
        "    insert_cursor.insertRow([polygon_geometry])\n",
        "\n",
        "print(\"Finished\")"
      ],
      "metadata": {
        "id": "ilfEFf6s0hsJ"
      },
      "execution_count": null,
      "outputs": []
    },
    {
      "cell_type": "markdown",
      "source": [
        "### Step 3: Getting only the Water elevation between low and by using erase tool to only keep parts that don't overlap"
      ],
      "metadata": {
        "id": "0jfmDgny0iYz"
      }
    },
    {
      "cell_type": "code",
      "source": [
        "arcpy.analysis.Erase(\n",
        "    in_features=\"HighWater\",\n",
        "    erase_features=\"LowWater\",\n",
        "    out_feature_class=r\"ValidElevation\",\n",
        "    cluster_tolerance=None\n",
        ")"
      ],
      "metadata": {
        "id": "kq6QZJu01D1A"
      },
      "execution_count": null,
      "outputs": []
    },
    {
      "cell_type": "markdown",
      "source": [
        "### Step 4: Creating 8m and 100 m buffers to see restrictions and meet criteria"
      ],
      "metadata": {
        "id": "bPIV0xG91Kwz"
      }
    },
    {
      "cell_type": "code",
      "source": [
        "arcpy.analysis.Buffer(\n",
        "    in_features=\"VernalPools2018\",\n",
        "    out_feature_class=r\"VernalPools2018_Buffer\",\n",
        "    buffer_distance_or_field=\"8 Meters\",\n",
        "    line_side=\"FULL\",\n",
        "    line_end_type=\"ROUND\",\n",
        "    dissolve_option=\"NONE\",\n",
        "    dissolve_field=None,\n",
        "    method=\"PLANAR\"\n",
        ")"
      ],
      "metadata": {
        "id": "nucIaRW51YWk"
      },
      "execution_count": null,
      "outputs": []
    },
    {
      "cell_type": "code",
      "source": [
        "arcpy.analysis.Buffer(\n",
        "    in_features=\"LakeYosemiteRd_Project1\",\n",
        "    out_feature_class=r\"LakeYosemiteRd_Projec_Buffer\",\n",
        "    buffer_distance_or_field=\"100 Meters\",\n",
        "    line_side=\"FULL\",\n",
        "    line_end_type=\"ROUND\",\n",
        "    dissolve_option=\"NONE\",\n",
        "    dissolve_field=None,\n",
        "    method=\"PLANAR\"\n",
        ")"
      ],
      "metadata": {
        "id": "vNUkLfLG1ai0"
      },
      "execution_count": null,
      "outputs": []
    },
    {
      "cell_type": "markdown",
      "source": [
        "### Step 5: Using Clip to only keep parts where the valid water meets all the criterias such as being within 100 m of road and not near 8m of vernal pool"
      ],
      "metadata": {
        "id": "sal0Z8Gb1dA4"
      }
    },
    {
      "cell_type": "code",
      "source": [
        "arcpy.analysis.Clip(\n",
        "    in_features=\"ValidElevation\",\n",
        "    clip_features=\"LakeYosemiteRd_Projec_Buffer\",\n",
        "    out_feature_class=r\"ValidElevation_Clip\",\n",
        "    cluster_tolerance=None\n",
        ")"
      ],
      "metadata": {
        "id": "cWBjtJNW1wYq"
      },
      "execution_count": null,
      "outputs": []
    },
    {
      "cell_type": "markdown",
      "source": [
        "### Step 6: Creating rectangles of valid sites in approved areas as well as lines showing site to road"
      ],
      "metadata": {
        "id": "I7DfwqOP1z5g"
      }
    },
    {
      "cell_type": "code",
      "source": [
        "import arcpy\n",
        "import os\n",
        "from arcpy import Point, Polygon, Array\n",
        "\n",
        "output_folder = os.getcwd()\n",
        "\n",
        "shapefile_name = \"LocationA.shp\"\n",
        "\n",
        "shapefile_path = os.path.join(output_folder, shapefile_name)\n",
        "\n",
        "teale_albers = arcpy.SpatialReference(3310)\n",
        "\n",
        "arcpy.CreateFeatureclass_management(\n",
        "    output_folder,\n",
        "    \"LocationA.shp\",\n",
        "    \"POLYGON\",\n",
        "    spatial_reference=teale_albers\n",
        ")\n",
        "\n",
        "hardcoded_points = [\n",
        "Point(-38206.28991010851, -71890.23510634908),\n",
        "Point(-38216.1434869623, -71901.54470506588),\n",
        "Point(-38238.762684399044, -71881.83755136044),\n",
        "Point(-38228.90910755045, -71870.52795264259),\n",
        "Point(-38206.28991010851, -71890.23510634908)\n",
        "]\n",
        "\n",
        "\n",
        "polygon_geometry = Polygon(Array(hardcoded_points))\n",
        "\n",
        "with arcpy.da.InsertCursor(shapefile_path, [\"SHAPE@\"]) as insert_cursor:\n",
        "    insert_cursor.insertRow([polygon_geometry])\n",
        "\n",
        "print(\"Finished\")"
      ],
      "metadata": {
        "id": "r1nx23jB2BAl"
      },
      "execution_count": null,
      "outputs": []
    },
    {
      "cell_type": "code",
      "source": [
        "import arcpy\n",
        "import os\n",
        "from arcpy import Point, Polygon, Array\n",
        "\n",
        "output_folder = os.getcwd()\n",
        "\n",
        "shapefile_name = \"LocationB.shp\"\n",
        "\n",
        "shapefile_path = os.path.join(output_folder, shapefile_name)\n",
        "\n",
        "teale_albers = arcpy.SpatialReference(3310)\n",
        "\n",
        "arcpy.CreateFeatureclass_management(\n",
        "    output_folder,\n",
        "    \"LocationB.shp\",\n",
        "    \"POLYGON\",\n",
        "    spatial_reference=teale_albers\n",
        ")\n",
        "\n",
        "hardcoded_points = [\n",
        "Point(-37460.49424761993, -71209.74102266482),\n",
        "Point(-37442.92260120081, -71234.05639315264),\n",
        "Point(-37455.08028644553, -71242.84221636265),\n",
        "Point(-37472.65193286644, -71218.52684587157),\n",
        "Point(-37460.49424761993, -71209.74102266482)\n",
        "]\n",
        "\n",
        "polygon_geometry = Polygon(Array(hardcoded_points))\n",
        "\n",
        "with arcpy.da.InsertCursor(shapefile_path, [\"SHAPE@\"]) as insert_cursor:\n",
        "    insert_cursor.insertRow([polygon_geometry])\n",
        "\n",
        "print(\"Finished\")"
      ],
      "metadata": {
        "id": "SLFIr7oY2Eal"
      },
      "execution_count": null,
      "outputs": []
    },
    {
      "cell_type": "code",
      "source": [
        "import arcpy\n",
        "import os\n",
        "from arcpy import Point, Polyline, Array\n",
        "\n",
        "output_folder = os.getcwd()\n",
        "\n",
        "shapefile_name = \"DistanceLinesA.shp\"\n",
        "\n",
        "shapefile_path = os.path.join(output_folder, shapefile_name)\n",
        "\n",
        "teale_albers = arcpy.SpatialReference(3310)\n",
        "\n",
        "arcpy.CreateFeatureclass_management(\n",
        "    output_folder,\n",
        "    shapefile_name,\n",
        "    \"POLYLINE\",\n",
        "    spatial_reference=teale_albers\n",
        ")\n",
        "\n",
        "hardcoded_points = [\n",
        "    Point(-38211.28452437303, -71895.97444601629), Point(-38206.0130962024, -71900.44660583849)\n",
        "]\n",
        "\n",
        "polyline_geometry = Polyline(Array(hardcoded_points))\n",
        "\n",
        "with arcpy.da.InsertCursor(shapefile_path, [\"SHAPE@\"]) as insert_cursor:\n",
        "    insert_cursor.insertRow([polyline_geometry])\n",
        "\n",
        "print(\"Finished\")"
      ],
      "metadata": {
        "id": "0CyczErY2L0Q"
      },
      "execution_count": null,
      "outputs": []
    },
    {
      "cell_type": "code",
      "source": [
        "import arcpy\n",
        "import os\n",
        "from arcpy import Point, Polyline, Array\n",
        "\n",
        "output_folder = os.getcwd()\n",
        "\n",
        "shapefile_name = \"DistanceLinesB.shp\"\n",
        "\n",
        "shapefile_path = os.path.join(output_folder, shapefile_name)\n",
        "\n",
        "teale_albers = arcpy.SpatialReference(3310)\n",
        "\n",
        "arcpy.CreateFeatureclass_management(\n",
        "    output_folder,\n",
        "    shapefile_name,\n",
        "    \"POLYLINE\",\n",
        "    spatial_reference=teale_albers\n",
        ")\n",
        "\n",
        "hardcoded_points = [\n",
        "Point(-37449.33012437536, -71238.71824567392), Point(-37433.47163431567, -71260.40153419878)\n",
        "\n",
        "]\n",
        "\n",
        "polyline_geometry = Polyline(Array(hardcoded_points))\n",
        "\n",
        "with arcpy.da.InsertCursor(shapefile_path, [\"SHAPE@\"]) as insert_cursor:\n",
        "    insert_cursor.insertRow([polyline_geometry])\n",
        "\n",
        "print(\"Finished\")"
      ],
      "metadata": {
        "id": "_aPeWNAK2Or4"
      },
      "execution_count": null,
      "outputs": []
    },
    {
      "cell_type": "markdown",
      "source": [
        "### Step 7: Getting all statistics such as areas of high and low and in between water year, area meeting all criterias as well as distance of road to sites and average high water elevation."
      ],
      "metadata": {
        "id": "YvA4Dcgf2QNJ"
      }
    },
    {
      "cell_type": "code",
      "source": [
        "import arcpy\n",
        "\n",
        "shapefile_path = \"DistanceLinesA.shp\"\n",
        "\n",
        "with arcpy.da.SearchCursor(shapefile_path, [\"SHAPE@LENGTH\"]) as cursor:\n",
        "    for row in cursor:\n",
        "        print(f\"Distance from site A to Yosemite Rd: {row[0]} meters\")"
      ],
      "metadata": {
        "id": "yrajB2z22zID"
      },
      "execution_count": null,
      "outputs": []
    },
    {
      "cell_type": "code",
      "source": [
        "import arcpy\n",
        "\n",
        "shapefile_path = \"DistanceLinesB.shp\"\n",
        "\n",
        "with arcpy.da.SearchCursor(shapefile_path, [\"SHAPE@LENGTH\"]) as cursor:\n",
        "    for row in cursor:\n",
        "        print(f\"Distance from Site B to Yosemite Rd: {row[0]} meters\")"
      ],
      "metadata": {
        "id": "5gBx33Iw22o5"
      },
      "execution_count": null,
      "outputs": []
    },
    {
      "cell_type": "code",
      "source": [
        "import arcpy\n",
        "\n",
        "shapefile_path = \"ValidElevation_Clip\"\n",
        "\n",
        "with arcpy.da.SearchCursor(shapefile_path, [\"SHAPE@AREA\"]) as cursor:\n",
        "    for row in cursor:\n",
        "        area_us_survey_acres = row[0] * 0.000247105\n",
        "        print(f\"Area meeting all criterias: {area_us_survey_acres} U.S. Survey Acres\")"
      ],
      "metadata": {
        "id": "tGbUXfCf25XE"
      },
      "execution_count": null,
      "outputs": []
    },
    {
      "cell_type": "code",
      "source": [
        "import arcpy\n",
        "\n",
        "shapefile_path = \"ValidElevation\"\n",
        "\n",
        "with arcpy.da.SearchCursor(shapefile_path, [\"SHAPE@AREA\"]) as cursor:\n",
        "    for row in cursor:\n",
        "        area_us_survey_acres = row[0] * 0.000247105\n",
        "        print(f\"Area between high and low water Year: {area_us_survey_acres} U.S. Survey Acres\")"
      ],
      "metadata": {
        "id": "S3xOU-BF2_ag"
      },
      "execution_count": null,
      "outputs": []
    },
    {
      "cell_type": "code",
      "source": [
        "import arcpy\n",
        "\n",
        "shapefile_path = \"LowWater.shp\"\n",
        "\n",
        "with arcpy.da.SearchCursor(shapefile_path, [\"SHAPE@AREA\"]) as cursor:\n",
        "    for row in cursor:\n",
        "        area_us_survey_acres = row[0] * 0.000247105\n",
        "        print(f\"Area of low water Year: {area_us_survey_acres} U.S. Survey Acres\")"
      ],
      "metadata": {
        "id": "Y4Vemmu63QJs"
      },
      "execution_count": null,
      "outputs": []
    },
    {
      "cell_type": "code",
      "source": [
        "import arcpy\n",
        "\n",
        "shapefile_path = \"HighWater.shp\"\n",
        "\n",
        "with arcpy.da.SearchCursor(shapefile_path, [\"SHAPE@AREA\"]) as cursor:\n",
        "    for row in cursor:\n",
        "        area_us_survey_acres = row[0] * 0.000247105\n",
        "        print(f\"Area of high water Year: {area_us_survey_acres} U.S. Survey Acres\")"
      ],
      "metadata": {
        "id": "VXWNIdyz3SOP"
      },
      "execution_count": null,
      "outputs": []
    },
    {
      "cell_type": "code",
      "source": [
        "# converting High water polygon to line first and then using extract by face mask using the DEM file to get the elevation of the High water line(edges) which will have mean statistic\n",
        "import arcpy\n",
        "\n",
        "arcpy.management.PolygonToLine(\n",
        "    in_features=\"HighWater\",\n",
        "    out_feature_class=\"HighWater_PolyToLine\",\n",
        "    neighbor_option=\"IDENTIFY_NEIGHBORS\"\n",
        ")\n",
        "arcpy.env.scratchWorkspace = \"\"\n",
        "\n",
        "arcpy.env.workspace = r\".\"\n",
        "\n",
        "out_raster = arcpy.sa.ExtractByMask(\n",
        "    in_raster=r\"USGS_13_n38w12_ProjectRaster\",\n",
        "    in_mask_data=\"HighWater_PolyToLine\",\n",
        "    extraction_area=\"INSIDE\",\n",
        "    analysis_extent='-120.440048623066 37.3681867797007 -120.422209911029 37.385410683026 GEOGCS[\"GCS_North_American_1983\",DATUM[\"D_North_American_1983\",SPHEROID[\"GRS_1980\",6378137.0,298.257222101]],PRIMEM[\"Greenwich\",0.0],UNIT[\"Degree\",0.0174532925199433]]'\n",
        ")\n",
        "\n",
        "out_raster.save(\"out_raster\")\n",
        "\n",
        "mean_value = arcpy.GetRasterProperties_management(out_raster, \"MEAN\")\n",
        "\n",
        "print(f\"Mean value: {mean_value} meters\")\n",
        "\n",
        "print(\"Done\")"
      ],
      "metadata": {
        "id": "fcln2DHW3Vo6"
      },
      "execution_count": null,
      "outputs": []
    },
    {
      "cell_type": "markdown",
      "source": [
        "### After doing these steps. You can just keep these turned on in this order:\n",
        "*   DistanceLineA\n",
        "*   DistanceLineB\n",
        "*   LocationA\n",
        "*   LocationB\n",
        "*   ValidElevation_Clip\n",
        "*   LakeYosemiteRd_Project1\n",
        "*   VernalPools2018\n",
        "*   VernalPools2018_Buffer\n",
        "*   ValidElevation\n",
        "*   LowWater\n",
        "*   LakeYosemiteRd_Projec_Buffer\n",
        "\n",
        "\n",
        "\n"
      ],
      "metadata": {
        "id": "dCoEh-gr6_2Y"
      }
    }
  ]
}